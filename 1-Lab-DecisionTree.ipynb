{
 "cells": [
  {
   "cell_type": "markdown",
   "metadata": {
    "colab_type": "text",
    "id": "gvKshvFzQorr"
   },
   "source": [
    "# Decision Tree in Python"
   ]
  },
  {
   "cell_type": "markdown",
   "metadata": {
    "colab_type": "text",
    "id": "YeHd4gDaQ0_c"
   },
   "source": [
    "## Introduction"
   ]
  },
  {
   "cell_type": "markdown",
   "metadata": {
    "colab_type": "text",
    "id": "VxauYFNjYzWw"
   },
   "source": [
    "\n",
    "* Author: thuanle@hcmut.edu.vn\n",
    "\n",
    "* Content:\n",
    "  - Practice the DecisionTree classifier\n",
    "  - Learn more about split the dataset into train and test.\n",
    "  - Evaluation by Accuracy score\n",
    "* Major steps:\n",
    "  - Load data from CSV, split into trainning set and test set\n",
    "  - Buidling kNN model.\n",
    "  - Evaluating results\n",
    "  - Training DecisionTree classifier model\n",
    "  - Evaluating results\n",
    "  - Visualize models"
   ]
  },
  {
   "cell_type": "markdown",
   "metadata": {
    "colab_type": "text",
    "id": "iqHlfOFUVQAD"
   },
   "source": [
    "## Configuration"
   ]
  },
  {
   "cell_type": "code",
   "execution_count": 15,
   "metadata": {
    "colab": {
     "autoexec": {
      "startup": false,
      "wait_interval": 0
     }
    },
    "colab_type": "code",
    "id": "hFmx_vCrVEX3"
   },
   "outputs": [],
   "source": [
    "dataset_filename = \"bill_authentication.csv\""
   ]
  },
  {
   "cell_type": "markdown",
   "metadata": {
    "colab_type": "text",
    "id": "H89hX3QbQor2"
   },
   "source": [
    "## Grab the data\n",
    "\n",
    "Since our file is in CSV format, we will use panda's read_csv method to read our CSV data file. Execute the following script to do so:"
   ]
  },
  {
   "cell_type": "code",
   "execution_count": 16,
   "metadata": {
    "colab": {
     "autoexec": {
      "startup": false,
      "wait_interval": 0
     },
     "base_uri": "https://localhost:8080/",
     "height": 35
    },
    "colab_type": "code",
    "executionInfo": {
     "elapsed": 856,
     "status": "ok",
     "timestamp": 1526176337475,
     "user": {
      "displayName": "THUAN LE DINH",
      "photoUrl": "https://lh3.googleusercontent.com/a/default-user=s128",
      "userId": "112382990335944671707"
     },
     "user_tz": -420
    },
    "id": "t85tLpXzQor5",
    "outputId": "3f4f66e8-7ea5-404a-8444-213cfa815f76"
   },
   "outputs": [
    {
     "data": {
      "text/plain": [
       "(1372, 5)"
      ]
     },
     "execution_count": 16,
     "metadata": {},
     "output_type": "execute_result"
    }
   ],
   "source": [
    "import pandas as pd  \n",
    "dataset = pd.read_csv(dataset_filename)\n",
    "dataset.shape"
   ]
  },
  {
   "cell_type": "code",
   "execution_count": 17,
   "metadata": {
    "colab": {
     "autoexec": {
      "startup": false,
      "wait_interval": 0
     },
     "base_uri": "https://localhost:8080/",
     "height": 35
    },
    "colab_type": "code",
    "executionInfo": {
     "elapsed": 746,
     "status": "ok",
     "timestamp": 1526170243312,
     "user": {
      "displayName": "THUAN LE DINH",
      "photoUrl": "https://lh3.googleusercontent.com/a/default-user=s128",
      "userId": "112382990335944671707"
     },
     "user_tz": -420
    },
    "id": "A0dBLnZKQosF",
    "outputId": "fd93cd39-6f68-41e3-9c98-5d58711a857f"
   },
   "outputs": [
    {
     "data": {
      "text/plain": [
       "Index(['Variance', 'Skewness', 'Curtosis', 'Entropy', 'Class'], dtype='object')"
      ]
     },
     "execution_count": 17,
     "metadata": {},
     "output_type": "execute_result"
    }
   ],
   "source": [
    "# Overview about dataset\n",
    "# đọc ra những key index trong tập data\n",
    "dataset.keys()"
   ]
  },
  {
   "cell_type": "code",
   "execution_count": 18,
   "metadata": {
    "colab": {
     "autoexec": {
      "startup": false,
      "wait_interval": 0
     },
     "base_uri": "https://localhost:8080/",
     "height": 203
    },
    "colab_type": "code",
    "executionInfo": {
     "elapsed": 728,
     "status": "ok",
     "timestamp": 1526170247767,
     "user": {
      "displayName": "THUAN LE DINH",
      "photoUrl": "https://lh3.googleusercontent.com/a/default-user=s128",
      "userId": "112382990335944671707"
     },
     "user_tz": -420
    },
    "id": "6S5WHtRnQosJ",
    "outputId": "0b65f801-aa21-4b70-d562-9a3135148e2d"
   },
   "outputs": [
    {
     "data": {
      "text/html": [
       "<div>\n",
       "<style scoped>\n",
       "    .dataframe tbody tr th:only-of-type {\n",
       "        vertical-align: middle;\n",
       "    }\n",
       "\n",
       "    .dataframe tbody tr th {\n",
       "        vertical-align: top;\n",
       "    }\n",
       "\n",
       "    .dataframe thead th {\n",
       "        text-align: right;\n",
       "    }\n",
       "</style>\n",
       "<table border=\"1\" class=\"dataframe\">\n",
       "  <thead>\n",
       "    <tr style=\"text-align: right;\">\n",
       "      <th></th>\n",
       "      <th>Variance</th>\n",
       "      <th>Skewness</th>\n",
       "      <th>Curtosis</th>\n",
       "      <th>Entropy</th>\n",
       "      <th>Class</th>\n",
       "    </tr>\n",
       "  </thead>\n",
       "  <tbody>\n",
       "    <tr>\n",
       "      <td>0</td>\n",
       "      <td>3.62160</td>\n",
       "      <td>8.6661</td>\n",
       "      <td>-2.8073</td>\n",
       "      <td>-0.44699</td>\n",
       "      <td>0</td>\n",
       "    </tr>\n",
       "    <tr>\n",
       "      <td>1</td>\n",
       "      <td>4.54590</td>\n",
       "      <td>8.1674</td>\n",
       "      <td>-2.4586</td>\n",
       "      <td>-1.46210</td>\n",
       "      <td>0</td>\n",
       "    </tr>\n",
       "    <tr>\n",
       "      <td>2</td>\n",
       "      <td>3.86600</td>\n",
       "      <td>-2.6383</td>\n",
       "      <td>1.9242</td>\n",
       "      <td>0.10645</td>\n",
       "      <td>0</td>\n",
       "    </tr>\n",
       "    <tr>\n",
       "      <td>3</td>\n",
       "      <td>3.45660</td>\n",
       "      <td>9.5228</td>\n",
       "      <td>-4.0112</td>\n",
       "      <td>-3.59440</td>\n",
       "      <td>0</td>\n",
       "    </tr>\n",
       "    <tr>\n",
       "      <td>4</td>\n",
       "      <td>0.32924</td>\n",
       "      <td>-4.4552</td>\n",
       "      <td>4.5718</td>\n",
       "      <td>-0.98880</td>\n",
       "      <td>0</td>\n",
       "    </tr>\n",
       "  </tbody>\n",
       "</table>\n",
       "</div>"
      ],
      "text/plain": [
       "   Variance  Skewness  Curtosis  Entropy  Class\n",
       "0   3.62160    8.6661   -2.8073 -0.44699      0\n",
       "1   4.54590    8.1674   -2.4586 -1.46210      0\n",
       "2   3.86600   -2.6383    1.9242  0.10645      0\n",
       "3   3.45660    9.5228   -4.0112 -3.59440      0\n",
       "4   0.32924   -4.4552    4.5718 -0.98880      0"
      ]
     },
     "execution_count": 18,
     "metadata": {},
     "output_type": "execute_result"
    }
   ],
   "source": [
    "dataset.head()  "
   ]
  },
  {
   "cell_type": "markdown",
   "metadata": {
    "colab_type": "text",
    "id": "NTob9ldXZST2"
   },
   "source": [
    "## Prepare train data and test set"
   ]
  },
  {
   "cell_type": "markdown",
   "metadata": {
    "colab_type": "text",
    "id": "_SHtTv-AQosM"
   },
   "source": [
    "The label is describe in **Class** column. So that we devide the dataset into attributes and labels"
   ]
  },
  {
   "cell_type": "code",
   "execution_count": 19,
   "metadata": {
    "colab": {
     "autoexec": {
      "startup": false,
      "wait_interval": 0
     }
    },
    "colab_type": "code",
    "id": "IWlX_Ip1QosN"
   },
   "outputs": [],
   "source": [
    "X = dataset.drop('Class', axis=1)  \n",
    "y = dataset['Class']  "
   ]
  },
  {
   "cell_type": "markdown",
   "metadata": {
    "colab_type": "text",
    "id": "gg1L0AW-2ScC"
   },
   "source": [
    "Here the X variable contains all the columns from the dataset, except the **Class** column, which is the label.\n",
    "\n",
    "The y variable contains the values from the **Class** column. \n",
    "\n",
    "The X variable is our attribute set and y variable contains corresponding labels."
   ]
  },
  {
   "cell_type": "markdown",
   "metadata": {
    "colab_type": "text",
    "id": "7mAg-sUBQosS"
   },
   "source": [
    "### Dividing our data into training and test sets. "
   ]
  },
  {
   "cell_type": "markdown",
   "metadata": {
    "colab_type": "text",
    "id": "0Fp9RNwf2oon"
   },
   "source": [
    "So, we split the test into 2 sets: training set and testing set. We use to split up 20% of the data in to the test set and 80% for training."
   ]
  },
  {
   "cell_type": "code",
   "execution_count": 20,
   "metadata": {
    "colab": {
     "autoexec": {
      "startup": false,
      "wait_interval": 0
     },
     "base_uri": "https://localhost:8080/",
     "height": 51
    },
    "colab_type": "code",
    "executionInfo": {
     "elapsed": 939,
     "status": "ok",
     "timestamp": 1526171100970,
     "user": {
      "displayName": "THUAN LE DINH",
      "photoUrl": "https://lh3.googleusercontent.com/a/default-user=s128",
      "userId": "112382990335944671707"
     },
     "user_tz": -420
    },
    "id": "8fXzzhfHQosT",
    "outputId": "ca9631b9-160e-4b91-b342-b77fa643884a"
   },
   "outputs": [
    {
     "name": "stdout",
     "output_type": "stream",
     "text": [
      "(1097, 4) 1097\n",
      "(275, 4) (275,)\n"
     ]
    }
   ],
   "source": [
    "from sklearn.model_selection import train_test_split  \n",
    "X_train, X_test, y_train, y_test = train_test_split(X, y, test_size=0.20)\n",
    "print(X_train.shape, y_train.size)\n",
    "print(X_test.shape, y_test.shape)"
   ]
  },
  {
   "cell_type": "markdown",
   "metadata": {
    "colab_type": "text",
    "id": "RvkIhGKzQosZ"
   },
   "source": [
    "## Training with Decision Tree"
   ]
  },
  {
   "cell_type": "markdown",
   "metadata": {
    "colab_type": "text",
    "id": "Whzch7nq5Fdc"
   },
   "source": [
    "Now, let's build a **Decision Tree** model"
   ]
  },
  {
   "cell_type": "markdown",
   "metadata": {},
   "source": [
    "### a) criterion='gini'"
   ]
  },
  {
   "cell_type": "code",
   "execution_count": 21,
   "metadata": {
    "colab": {
     "autoexec": {
      "startup": false,
      "wait_interval": 0
     },
     "base_uri": "https://localhost:8080/",
     "height": 119
    },
    "colab_type": "code",
    "executionInfo": {
     "elapsed": 955,
     "status": "ok",
     "timestamp": 1526171252150,
     "user": {
      "displayName": "THUAN LE DINH",
      "photoUrl": "https://lh3.googleusercontent.com/a/default-user=s128",
      "userId": "112382990335944671707"
     },
     "user_tz": -420
    },
    "id": "A5VjKMNFQosZ",
    "outputId": "70d72118-5ffd-4ac1-b1a4-2e264484ef63"
   },
   "outputs": [
    {
     "data": {
      "text/plain": [
       "DecisionTreeClassifier(class_weight=None, criterion='gini', max_depth=None,\n",
       "                       max_features=None, max_leaf_nodes=None,\n",
       "                       min_impurity_decrease=0.0, min_impurity_split=None,\n",
       "                       min_samples_leaf=1, min_samples_split=2,\n",
       "                       min_weight_fraction_leaf=0.0, presort=False,\n",
       "                       random_state=None, splitter='best')"
      ]
     },
     "execution_count": 21,
     "metadata": {},
     "output_type": "execute_result"
    }
   ],
   "source": [
    "from sklearn.tree import DecisionTreeClassifier  \n",
    "dt = DecisionTreeClassifier(criterion='gini')  \n",
    "dt.fit(X_train, y_train)  "
   ]
  },
  {
   "cell_type": "code",
   "execution_count": 22,
   "metadata": {
    "colab": {
     "autoexec": {
      "startup": false,
      "wait_interval": 0
     },
     "base_uri": "https://localhost:8080/",
     "height": 238
    },
    "colab_type": "code",
    "executionInfo": {
     "elapsed": 716,
     "status": "ok",
     "timestamp": 1526171510465,
     "user": {
      "displayName": "THUAN LE DINH",
      "photoUrl": "https://lh3.googleusercontent.com/a/default-user=s128",
      "userId": "112382990335944671707"
     },
     "user_tz": -420
    },
    "id": "577pssBYQose",
    "outputId": "69c6841d-656b-41c1-fd96-4fb3bb648061"
   },
   "outputs": [
    {
     "data": {
      "text/plain": [
       "array([1, 1, 1, 0, 1, 0, 0, 0, 1, 0, 0, 0, 1, 0, 1, 1, 0, 0, 1, 1, 0, 1,\n",
       "       0, 1, 1, 1, 0, 1, 1, 0, 1, 0, 0, 0, 0, 0, 0, 0, 0, 1, 1, 0, 0, 0,\n",
       "       0, 0, 1, 0, 0, 0, 1, 0, 0, 0, 0, 0, 1, 0, 1, 1, 0, 0, 0, 1, 0, 0,\n",
       "       0, 0, 1, 1, 0, 1, 1, 0, 0, 0, 1, 0, 0, 1, 1, 0, 0, 1, 0, 0, 0, 0,\n",
       "       0, 0, 1, 1, 0, 0, 1, 1, 1, 1, 1, 1, 0, 1, 0, 1, 0, 1, 1, 1, 0, 0,\n",
       "       0, 0, 0, 1, 0, 1, 1, 0, 0, 0, 1, 0, 0, 0, 0, 1, 0, 0, 0, 0, 0, 1,\n",
       "       1, 0, 1, 1, 0, 0, 0, 1, 0, 1, 1, 0, 0, 0, 0, 0, 1, 1, 1, 0, 0, 1,\n",
       "       0, 0, 0, 0, 0, 0, 0, 1, 0, 0, 0, 0, 0, 0, 1, 0, 1, 1, 0, 0, 1, 1,\n",
       "       0, 0, 0, 0, 1, 0, 0, 0, 1, 0, 1, 0, 1, 0, 0, 1, 0, 1, 1, 1, 1, 1,\n",
       "       1, 1, 0, 1, 1, 1, 1, 0, 0, 0, 1, 0, 1, 1, 0, 0, 1, 1, 0, 0, 1, 1,\n",
       "       0, 1, 1, 1, 1, 1, 1, 0, 0, 0, 0, 0, 0, 0, 0, 0, 0, 1, 0, 0, 0, 0,\n",
       "       1, 1, 0, 0, 0, 1, 1, 0, 0, 0, 0, 0, 0, 1, 0, 0, 1, 1, 0, 0, 0, 1,\n",
       "       1, 1, 1, 1, 1, 1, 1, 1, 1, 0, 0])"
      ]
     },
     "execution_count": 22,
     "metadata": {},
     "output_type": "execute_result"
    }
   ],
   "source": [
    "y_pred_dt = dt.predict(X_test)  \n",
    "y_pred_dt"
   ]
  },
  {
   "cell_type": "markdown",
   "metadata": {
    "colab_type": "text",
    "id": "UusvjyEMQosl"
   },
   "source": [
    "##### Evaluating the Algorithm\n",
    "\n"
   ]
  },
  {
   "cell_type": "code",
   "execution_count": 23,
   "metadata": {
    "colab": {
     "autoexec": {
      "startup": false,
      "wait_interval": 0
     },
     "base_uri": "https://localhost:8080/",
     "height": 34
    },
    "colab_type": "code",
    "executionInfo": {
     "elapsed": 864,
     "status": "ok",
     "timestamp": 1526176927124,
     "user": {
      "displayName": "THUAN LE DINH",
      "photoUrl": "https://lh3.googleusercontent.com/a/default-user=s128",
      "userId": "112382990335944671707"
     },
     "user_tz": -420
    },
    "id": "ZrVWAiUDQosm",
    "outputId": "ec6dbafe-f43d-4e2c-b17b-663e2c69a1b5"
   },
   "outputs": [
    {
     "name": "stdout",
     "output_type": "stream",
     "text": [
      "Decision Tree classifier accuracy score is 0.9854545454545455\n"
     ]
    }
   ],
   "source": [
    "dt_score = dt.score(X_test, y_test)\n",
    "print(f\"Decision Tree classifier accuracy score is {dt_score}\")"
   ]
  },
  {
   "cell_type": "markdown",
   "metadata": {},
   "source": [
    "### b) criterion='entropy'"
   ]
  },
  {
   "cell_type": "code",
   "execution_count": 24,
   "metadata": {},
   "outputs": [
    {
     "data": {
      "text/plain": [
       "DecisionTreeClassifier(class_weight=None, criterion='entropy', max_depth=None,\n",
       "                       max_features=None, max_leaf_nodes=None,\n",
       "                       min_impurity_decrease=0.0, min_impurity_split=None,\n",
       "                       min_samples_leaf=1, min_samples_split=2,\n",
       "                       min_weight_fraction_leaf=0.0, presort=False,\n",
       "                       random_state=None, splitter='best')"
      ]
     },
     "execution_count": 24,
     "metadata": {},
     "output_type": "execute_result"
    }
   ],
   "source": [
    "from sklearn.tree import DecisionTreeClassifier  \n",
    "dt2 = DecisionTreeClassifier(criterion='entropy')  \n",
    "dt2.fit(X_train, y_train)  "
   ]
  },
  {
   "cell_type": "code",
   "execution_count": 25,
   "metadata": {
    "scrolled": false
   },
   "outputs": [
    {
     "data": {
      "text/plain": [
       "array([1, 1, 1, 0, 1, 0, 0, 0, 1, 0, 0, 0, 1, 0, 1, 1, 0, 0, 1, 1, 0, 1,\n",
       "       0, 1, 1, 1, 0, 1, 1, 0, 1, 0, 0, 0, 0, 0, 0, 0, 0, 1, 1, 0, 1, 0,\n",
       "       0, 0, 1, 0, 0, 0, 1, 0, 0, 0, 0, 0, 1, 0, 1, 1, 0, 0, 0, 1, 0, 0,\n",
       "       0, 0, 1, 1, 0, 1, 1, 0, 0, 0, 1, 0, 0, 1, 1, 0, 0, 1, 0, 0, 0, 0,\n",
       "       0, 0, 1, 1, 0, 0, 1, 1, 1, 1, 1, 1, 0, 1, 0, 1, 0, 1, 1, 1, 0, 0,\n",
       "       0, 0, 0, 1, 0, 1, 1, 0, 0, 0, 1, 0, 0, 0, 0, 1, 0, 0, 0, 0, 0, 1,\n",
       "       1, 0, 1, 1, 0, 0, 0, 1, 0, 1, 1, 0, 0, 0, 0, 0, 1, 1, 1, 0, 0, 1,\n",
       "       0, 0, 0, 0, 0, 0, 0, 1, 0, 0, 1, 0, 0, 0, 1, 0, 1, 1, 0, 0, 1, 1,\n",
       "       0, 0, 0, 0, 1, 0, 0, 0, 1, 0, 1, 0, 1, 0, 0, 1, 0, 1, 1, 1, 1, 1,\n",
       "       1, 1, 0, 1, 1, 1, 1, 0, 0, 0, 1, 0, 1, 1, 0, 0, 1, 1, 0, 0, 1, 1,\n",
       "       0, 1, 1, 1, 1, 1, 1, 0, 0, 0, 0, 0, 0, 0, 0, 0, 0, 1, 0, 0, 0, 0,\n",
       "       1, 1, 0, 0, 0, 1, 1, 0, 0, 0, 0, 0, 0, 0, 0, 0, 1, 1, 0, 0, 0, 1,\n",
       "       1, 1, 1, 1, 1, 1, 1, 1, 1, 0, 0])"
      ]
     },
     "execution_count": 25,
     "metadata": {},
     "output_type": "execute_result"
    }
   ],
   "source": [
    "y_pred_dt = dt2.predict(X_test)  \n",
    "y_pred_dt"
   ]
  },
  {
   "cell_type": "markdown",
   "metadata": {
    "colab_type": "text",
    "id": "UusvjyEMQosl"
   },
   "source": [
    "##### Evaluating the Algorithm\n",
    "\n"
   ]
  },
  {
   "cell_type": "code",
   "execution_count": 26,
   "metadata": {
    "colab": {
     "autoexec": {
      "startup": false,
      "wait_interval": 0
     },
     "base_uri": "https://localhost:8080/",
     "height": 34
    },
    "colab_type": "code",
    "executionInfo": {
     "elapsed": 864,
     "status": "ok",
     "timestamp": 1526176927124,
     "user": {
      "displayName": "THUAN LE DINH",
      "photoUrl": "https://lh3.googleusercontent.com/a/default-user=s128",
      "userId": "112382990335944671707"
     },
     "user_tz": -420
    },
    "id": "ZrVWAiUDQosm",
    "outputId": "ec6dbafe-f43d-4e2c-b17b-663e2c69a1b5"
   },
   "outputs": [
    {
     "name": "stdout",
     "output_type": "stream",
     "text": [
      "Decision Tree classifier accuracy score is 0.9854545454545455\n"
     ]
    }
   ],
   "source": [
    "dt_score = dt.score(X_test, y_test)\n",
    "print(f\"Decision Tree classifier accuracy score is {dt_score}\")"
   ]
  },
  {
   "cell_type": "markdown",
   "metadata": {
    "colab_type": "text",
    "id": "pSKS600B8a7r"
   },
   "source": [
    "## Extra section"
   ]
  },
  {
   "cell_type": "markdown",
   "metadata": {
    "colab_type": "text",
    "id": "VOR4z1m7Qoss"
   },
   "source": [
    "### Visualize decision tree"
   ]
  },
  {
   "cell_type": "markdown",
   "metadata": {
    "colab_type": "text",
    "id": "flCqCeIl8xm9"
   },
   "source": [
    "We can visualize the Decision Tree model using the [Graphviz](https://www.graphviz.org/) tool.\n",
    "\n",
    "Graphviz is an easy tool for drawing graph. For example: the code\n",
    "\n",
    "```\n",
    "digraph G {Hello->World}\n",
    "```\n",
    "\n",
    "will generate the following graph\n",
    "\n",
    "![digraph](https://graphviz.gitlab.io/_pages/Gallery/directed/hello.png)\n",
    "\n",
    "* More example https://www.graphviz.org/gallery/\n",
    "* You can play around at http://www.webgraphviz.com/ or https://dreampuf.github.io/GraphvizOnline/"
   ]
  },
  {
   "cell_type": "markdown",
   "metadata": {
    "colab_type": "text",
    "id": "mIG3R9Lk_5NS"
   },
   "source": [
    "So let's generate the graph."
   ]
  },
  {
   "cell_type": "code",
   "execution_count": 27,
   "metadata": {
    "colab": {
     "autoexec": {
      "startup": false,
      "wait_interval": 0
     },
     "base_uri": "https://localhost:8080/",
     "height": 1649
    },
    "colab_type": "code",
    "executionInfo": {
     "elapsed": 902,
     "status": "ok",
     "timestamp": 1526173043848,
     "user": {
      "displayName": "THUAN LE DINH",
      "photoUrl": "https://lh3.googleusercontent.com/a/default-user=s128",
      "userId": "112382990335944671707"
     },
     "user_tz": -420
    },
    "id": "YIZ49PfhQosu",
    "outputId": "4e3f31ca-6c01-4af4-fe05-3841a20bab4b"
   },
   "outputs": [
    {
     "name": "stdout",
     "output_type": "stream",
     "text": [
      "digraph Tree {\n",
      "node [shape=box] ;\n",
      "0 [label=\"X[0] <= 0.32\\ngini = 0.495\\nsamples = 1097\\nvalue = [604, 493]\"] ;\n",
      "1 [label=\"X[1] <= 7.764\\ngini = 0.294\\nsamples = 525\\nvalue = [94, 431]\"] ;\n",
      "0 -> 1 [labeldistance=2.5, labelangle=45, headlabel=\"True\"] ;\n",
      "2 [label=\"X[0] <= -0.459\\ngini = 0.122\\nsamples = 445\\nvalue = [29, 416]\"] ;\n",
      "1 -> 2 ;\n",
      "3 [label=\"X[2] <= 6.219\\ngini = 0.061\\nsamples = 379\\nvalue = [12, 367]\"] ;\n",
      "2 -> 3 ;\n",
      "4 [label=\"X[1] <= 7.293\\ngini = 0.008\\nsamples = 262\\nvalue = [1, 261]\"] ;\n",
      "3 -> 4 ;\n",
      "5 [label=\"gini = 0.0\\nsamples = 258\\nvalue = [0, 258]\"] ;\n",
      "4 -> 5 ;\n",
      "6 [label=\"X[3] <= -2.185\\ngini = 0.375\\nsamples = 4\\nvalue = [1, 3]\"] ;\n",
      "4 -> 6 ;\n",
      "7 [label=\"gini = 0.0\\nsamples = 3\\nvalue = [0, 3]\"] ;\n",
      "6 -> 7 ;\n",
      "8 [label=\"gini = 0.0\\nsamples = 1\\nvalue = [1, 0]\"] ;\n",
      "6 -> 8 ;\n",
      "9 [label=\"X[1] <= -4.675\\ngini = 0.17\\nsamples = 117\\nvalue = [11, 106]\"] ;\n",
      "3 -> 9 ;\n",
      "10 [label=\"gini = 0.0\\nsamples = 105\\nvalue = [0, 105]\"] ;\n",
      "9 -> 10 ;\n",
      "11 [label=\"X[2] <= 6.615\\ngini = 0.153\\nsamples = 12\\nvalue = [11, 1]\"] ;\n",
      "9 -> 11 ;\n",
      "12 [label=\"X[0] <= -1.708\\ngini = 0.5\\nsamples = 2\\nvalue = [1, 1]\"] ;\n",
      "11 -> 12 ;\n",
      "13 [label=\"gini = 0.0\\nsamples = 1\\nvalue = [0, 1]\"] ;\n",
      "12 -> 13 ;\n",
      "14 [label=\"gini = 0.0\\nsamples = 1\\nvalue = [1, 0]\"] ;\n",
      "12 -> 14 ;\n",
      "15 [label=\"gini = 0.0\\nsamples = 10\\nvalue = [10, 0]\"] ;\n",
      "11 -> 15 ;\n",
      "16 [label=\"X[1] <= 5.454\\ngini = 0.382\\nsamples = 66\\nvalue = [17, 49]\"] ;\n",
      "2 -> 16 ;\n",
      "17 [label=\"X[2] <= 2.625\\ngini = 0.241\\nsamples = 57\\nvalue = [8, 49]\"] ;\n",
      "16 -> 17 ;\n",
      "18 [label=\"gini = 0.0\\nsamples = 49\\nvalue = [0, 49]\"] ;\n",
      "17 -> 18 ;\n",
      "19 [label=\"gini = 0.0\\nsamples = 8\\nvalue = [8, 0]\"] ;\n",
      "17 -> 19 ;\n",
      "20 [label=\"gini = 0.0\\nsamples = 9\\nvalue = [9, 0]\"] ;\n",
      "16 -> 20 ;\n",
      "21 [label=\"X[0] <= -4.836\\ngini = 0.305\\nsamples = 80\\nvalue = [65, 15]\"] ;\n",
      "1 -> 21 ;\n",
      "22 [label=\"gini = 0.0\\nsamples = 15\\nvalue = [0, 15]\"] ;\n",
      "21 -> 22 ;\n",
      "23 [label=\"gini = 0.0\\nsamples = 65\\nvalue = [65, 0]\"] ;\n",
      "21 -> 23 ;\n",
      "24 [label=\"X[2] <= -4.443\\ngini = 0.193\\nsamples = 572\\nvalue = [510, 62]\"] ;\n",
      "0 -> 24 [labeldistance=2.5, labelangle=-45, headlabel=\"False\"] ;\n",
      "25 [label=\"X[0] <= 3.304\\ngini = 0.36\\nsamples = 34\\nvalue = [8, 26]\"] ;\n",
      "24 -> 25 ;\n",
      "26 [label=\"gini = 0.0\\nsamples = 26\\nvalue = [0, 26]\"] ;\n",
      "25 -> 26 ;\n",
      "27 [label=\"gini = 0.0\\nsamples = 8\\nvalue = [8, 0]\"] ;\n",
      "25 -> 27 ;\n",
      "28 [label=\"X[0] <= 1.596\\ngini = 0.125\\nsamples = 538\\nvalue = [502, 36]\"] ;\n",
      "24 -> 28 ;\n",
      "29 [label=\"X[2] <= -2.181\\ngini = 0.362\\nsamples = 143\\nvalue = [109, 34]\"] ;\n",
      "28 -> 29 ;\n",
      "30 [label=\"X[1] <= 5.667\\ngini = 0.26\\nsamples = 26\\nvalue = [4, 22]\"] ;\n",
      "29 -> 30 ;\n",
      "31 [label=\"gini = 0.0\\nsamples = 22\\nvalue = [0, 22]\"] ;\n",
      "30 -> 31 ;\n",
      "32 [label=\"gini = 0.0\\nsamples = 4\\nvalue = [4, 0]\"] ;\n",
      "30 -> 32 ;\n",
      "33 [label=\"X[3] <= 0.902\\ngini = 0.184\\nsamples = 117\\nvalue = [105, 12]\"] ;\n",
      "29 -> 33 ;\n",
      "34 [label=\"X[3] <= 0.106\\ngini = 0.117\\nsamples = 112\\nvalue = [105, 7]\"] ;\n",
      "33 -> 34 ;\n",
      "35 [label=\"gini = 0.0\\nsamples = 88\\nvalue = [88, 0]\"] ;\n",
      "34 -> 35 ;\n",
      "36 [label=\"X[2] <= 1.168\\ngini = 0.413\\nsamples = 24\\nvalue = [17, 7]\"] ;\n",
      "34 -> 36 ;\n",
      "37 [label=\"gini = 0.0\\nsamples = 7\\nvalue = [0, 7]\"] ;\n",
      "36 -> 37 ;\n",
      "38 [label=\"gini = 0.0\\nsamples = 17\\nvalue = [17, 0]\"] ;\n",
      "36 -> 38 ;\n",
      "39 [label=\"gini = 0.0\\nsamples = 5\\nvalue = [0, 5]\"] ;\n",
      "33 -> 39 ;\n",
      "40 [label=\"X[0] <= 2.037\\ngini = 0.01\\nsamples = 395\\nvalue = [393, 2]\"] ;\n",
      "28 -> 40 ;\n",
      "41 [label=\"X[0] <= 2.017\\ngini = 0.087\\nsamples = 44\\nvalue = [42, 2]\"] ;\n",
      "40 -> 41 ;\n",
      "42 [label=\"gini = 0.0\\nsamples = 41\\nvalue = [41, 0]\"] ;\n",
      "41 -> 42 ;\n",
      "43 [label=\"X[3] <= 0.815\\ngini = 0.444\\nsamples = 3\\nvalue = [1, 2]\"] ;\n",
      "41 -> 43 ;\n",
      "44 [label=\"gini = 0.0\\nsamples = 2\\nvalue = [0, 2]\"] ;\n",
      "43 -> 44 ;\n",
      "45 [label=\"gini = 0.0\\nsamples = 1\\nvalue = [1, 0]\"] ;\n",
      "43 -> 45 ;\n",
      "46 [label=\"gini = 0.0\\nsamples = 351\\nvalue = [351, 0]\"] ;\n",
      "40 -> 46 ;\n",
      "}\n"
     ]
    }
   ],
   "source": [
    "from sklearn.tree import export_graphviz\n",
    "dot_data = export_graphviz(dt, out_file=None)\n",
    "print(dot_data)"
   ]
  },
  {
   "cell_type": "markdown",
   "metadata": {
    "colab_type": "text",
    "id": "0X6_ggMHFJ0Z"
   },
   "source": [
    "Copy the code above, paste it to online graphviz service like http://viz-js.com/ and see the result."
   ]
  },
  {
   "cell_type": "markdown",
   "metadata": {
    "colab_type": "text",
    "id": "NnUDorsr8wjv"
   },
   "source": [
    "### Jypiter does it all"
   ]
  },
  {
   "cell_type": "markdown",
   "metadata": {
    "colab_type": "text",
    "id": "tZsrkGvwBBta"
   },
   "source": [
    "If we want to display the graph automatically inside Jupiter, we'll need\n",
    "* Install Graphviz binary\n",
    "* Call the Graphviz inside Jupiter and grab the result.\n",
    "\n",
    "**Note**: Google Colab does not let us install Graphviz binary, so that we cant make with work with Google Colab.\n"
   ]
  },
  {
   "cell_type": "code",
   "execution_count": 28,
   "metadata": {
    "colab": {
     "autoexec": {
      "startup": false,
      "wait_interval": 0
     },
     "base_uri": "https://localhost:8080/",
     "height": 85
    },
    "colab_type": "code",
    "executionInfo": {
     "elapsed": 2787,
     "status": "ok",
     "timestamp": 1526173433688,
     "user": {
      "displayName": "THUAN LE DINH",
      "photoUrl": "https://lh3.googleusercontent.com/a/default-user=s128",
      "userId": "112382990335944671707"
     },
     "user_tz": -420
    },
    "id": "ASScryziBlf8",
    "outputId": "3dd4dad7-1765-4108-cdc1-83396516c592"
   },
   "outputs": [
    {
     "data": {
      "text/plain": [
       "'\\nInstall lib that call Graphviz binary\\n'"
      ]
     },
     "execution_count": 28,
     "metadata": {},
     "output_type": "execute_result"
    }
   ],
   "source": [
    "\"\"\"\n",
    "Install lib that call Graphviz binary\n",
    "\"\"\"\n",
    "\n",
    "# pip3 install graphviz"
   ]
  },
  {
   "cell_type": "code",
   "execution_count": 33,
   "metadata": {
    "colab": {
     "autoexec": {
      "startup": false,
      "wait_interval": 0
     }
    },
    "colab_type": "code",
    "id": "1eRgxNHtQosy"
   },
   "outputs": [
    {
     "data": {
      "text/plain": [
       "'digraph \"digraph Tree {\\nnode [shape=box] ;\\n0 [label=\\\\\"X[0] <= 0.32\\\\ngini = 0.495\\\\nsamples = 1097\\\\nvalue = [604, 493]\\\\\"] ;\\n1 [label=\\\\\"X[1] <= 7.764\\\\ngini = 0.294\\\\nsamples = 525\\\\nvalue = [94, 431]\\\\\"] ;\\n0 -> 1 [labeldistance=2.5, labelangle=45, headlabel=\\\\\"True\\\\\"] ;\\n2 [label=\\\\\"X[0] <= -0.459\\\\ngini = 0.122\\\\nsamples = 445\\\\nvalue = [29, 416]\\\\\"] ;\\n1 -> 2 ;\\n3 [label=\\\\\"X[2] <= 6.219\\\\ngini = 0.061\\\\nsamples = 379\\\\nvalue = [12, 367]\\\\\"] ;\\n2 -> 3 ;\\n4 [label=\\\\\"X[1] <= 7.293\\\\ngini = 0.008\\\\nsamples = 262\\\\nvalue = [1, 261]\\\\\"] ;\\n3 -> 4 ;\\n5 [label=\\\\\"gini = 0.0\\\\nsamples = 258\\\\nvalue = [0, 258]\\\\\"] ;\\n4 -> 5 ;\\n6 [label=\\\\\"X[3] <= -2.185\\\\ngini = 0.375\\\\nsamples = 4\\\\nvalue = [1, 3]\\\\\"] ;\\n4 -> 6 ;\\n7 [label=\\\\\"gini = 0.0\\\\nsamples = 3\\\\nvalue = [0, 3]\\\\\"] ;\\n6 -> 7 ;\\n8 [label=\\\\\"gini = 0.0\\\\nsamples = 1\\\\nvalue = [1, 0]\\\\\"] ;\\n6 -> 8 ;\\n9 [label=\\\\\"X[1] <= -4.675\\\\ngini = 0.17\\\\nsamples = 117\\\\nvalue = [11, 106]\\\\\"] ;\\n3 -> 9 ;\\n10 [label=\\\\\"gini = 0.0\\\\nsamples = 105\\\\nvalue = [0, 105]\\\\\"] ;\\n9 -> 10 ;\\n11 [label=\\\\\"X[2] <= 6.615\\\\ngini = 0.153\\\\nsamples = 12\\\\nvalue = [11, 1]\\\\\"] ;\\n9 -> 11 ;\\n12 [label=\\\\\"X[0] <= -1.708\\\\ngini = 0.5\\\\nsamples = 2\\\\nvalue = [1, 1]\\\\\"] ;\\n11 -> 12 ;\\n13 [label=\\\\\"gini = 0.0\\\\nsamples = 1\\\\nvalue = [0, 1]\\\\\"] ;\\n12 -> 13 ;\\n14 [label=\\\\\"gini = 0.0\\\\nsamples = 1\\\\nvalue = [1, 0]\\\\\"] ;\\n12 -> 14 ;\\n15 [label=\\\\\"gini = 0.0\\\\nsamples = 10\\\\nvalue = [10, 0]\\\\\"] ;\\n11 -> 15 ;\\n16 [label=\\\\\"X[1] <= 5.454\\\\ngini = 0.382\\\\nsamples = 66\\\\nvalue = [17, 49]\\\\\"] ;\\n2 -> 16 ;\\n17 [label=\\\\\"X[2] <= 2.625\\\\ngini = 0.241\\\\nsamples = 57\\\\nvalue = [8, 49]\\\\\"] ;\\n16 -> 17 ;\\n18 [label=\\\\\"gini = 0.0\\\\nsamples = 49\\\\nvalue = [0, 49]\\\\\"] ;\\n17 -> 18 ;\\n19 [label=\\\\\"gini = 0.0\\\\nsamples = 8\\\\nvalue = [8, 0]\\\\\"] ;\\n17 -> 19 ;\\n20 [label=\\\\\"gini = 0.0\\\\nsamples = 9\\\\nvalue = [9, 0]\\\\\"] ;\\n16 -> 20 ;\\n21 [label=\\\\\"X[0] <= -4.836\\\\ngini = 0.305\\\\nsamples = 80\\\\nvalue = [65, 15]\\\\\"] ;\\n1 -> 21 ;\\n22 [label=\\\\\"gini = 0.0\\\\nsamples = 15\\\\nvalue = [0, 15]\\\\\"] ;\\n21 -> 22 ;\\n23 [label=\\\\\"gini = 0.0\\\\nsamples = 65\\\\nvalue = [65, 0]\\\\\"] ;\\n21 -> 23 ;\\n24 [label=\\\\\"X[2] <= -4.443\\\\ngini = 0.193\\\\nsamples = 572\\\\nvalue = [510, 62]\\\\\"] ;\\n0 -> 24 [labeldistance=2.5, labelangle=-45, headlabel=\\\\\"False\\\\\"] ;\\n25 [label=\\\\\"X[0] <= 3.304\\\\ngini = 0.36\\\\nsamples = 34\\\\nvalue = [8, 26]\\\\\"] ;\\n24 -> 25 ;\\n26 [label=\\\\\"gini = 0.0\\\\nsamples = 26\\\\nvalue = [0, 26]\\\\\"] ;\\n25 -> 26 ;\\n27 [label=\\\\\"gini = 0.0\\\\nsamples = 8\\\\nvalue = [8, 0]\\\\\"] ;\\n25 -> 27 ;\\n28 [label=\\\\\"X[0] <= 1.596\\\\ngini = 0.125\\\\nsamples = 538\\\\nvalue = [502, 36]\\\\\"] ;\\n24 -> 28 ;\\n29 [label=\\\\\"X[2] <= -2.181\\\\ngini = 0.362\\\\nsamples = 143\\\\nvalue = [109, 34]\\\\\"] ;\\n28 -> 29 ;\\n30 [label=\\\\\"X[1] <= 5.667\\\\ngini = 0.26\\\\nsamples = 26\\\\nvalue = [4, 22]\\\\\"] ;\\n29 -> 30 ;\\n31 [label=\\\\\"gini = 0.0\\\\nsamples = 22\\\\nvalue = [0, 22]\\\\\"] ;\\n30 -> 31 ;\\n32 [label=\\\\\"gini = 0.0\\\\nsamples = 4\\\\nvalue = [4, 0]\\\\\"] ;\\n30 -> 32 ;\\n33 [label=\\\\\"X[3] <= 0.902\\\\ngini = 0.184\\\\nsamples = 117\\\\nvalue = [105, 12]\\\\\"] ;\\n29 -> 33 ;\\n34 [label=\\\\\"X[3] <= 0.106\\\\ngini = 0.117\\\\nsamples = 112\\\\nvalue = [105, 7]\\\\\"] ;\\n33 -> 34 ;\\n35 [label=\\\\\"gini = 0.0\\\\nsamples = 88\\\\nvalue = [88, 0]\\\\\"] ;\\n34 -> 35 ;\\n36 [label=\\\\\"X[2] <= 1.168\\\\ngini = 0.413\\\\nsamples = 24\\\\nvalue = [17, 7]\\\\\"] ;\\n34 -> 36 ;\\n37 [label=\\\\\"gini = 0.0\\\\nsamples = 7\\\\nvalue = [0, 7]\\\\\"] ;\\n36 -> 37 ;\\n38 [label=\\\\\"gini = 0.0\\\\nsamples = 17\\\\nvalue = [17, 0]\\\\\"] ;\\n36 -> 38 ;\\n39 [label=\\\\\"gini = 0.0\\\\nsamples = 5\\\\nvalue = [0, 5]\\\\\"] ;\\n33 -> 39 ;\\n40 [label=\\\\\"X[0] <= 2.037\\\\ngini = 0.01\\\\nsamples = 395\\\\nvalue = [393, 2]\\\\\"] ;\\n28 -> 40 ;\\n41 [label=\\\\\"X[0] <= 2.017\\\\ngini = 0.087\\\\nsamples = 44\\\\nvalue = [42, 2]\\\\\"] ;\\n40 -> 41 ;\\n42 [label=\\\\\"gini = 0.0\\\\nsamples = 41\\\\nvalue = [41, 0]\\\\\"] ;\\n41 -> 42 ;\\n43 [label=\\\\\"X[3] <= 0.815\\\\ngini = 0.444\\\\nsamples = 3\\\\nvalue = [1, 2]\\\\\"] ;\\n41 -> 43 ;\\n44 [label=\\\\\"gini = 0.0\\\\nsamples = 2\\\\nvalue = [0, 2]\\\\\"] ;\\n43 -> 44 ;\\n45 [label=\\\\\"gini = 0.0\\\\nsamples = 1\\\\nvalue = [1, 0]\\\\\"] ;\\n43 -> 45 ;\\n46 [label=\\\\\"gini = 0.0\\\\nsamples = 351\\\\nvalue = [351, 0]\\\\\"] ;\\n40 -> 46 ;\\n}\" {\\n}'"
      ]
     },
     "execution_count": 33,
     "metadata": {},
     "output_type": "execute_result"
    }
   ],
   "source": [
    "import graphviz \n",
    "from graphviz import Digraph\n",
    "# graph = graphviz.Source(dot_data)\n",
    "# graph\n",
    "\n",
    "dot = Digraph(dot_data)\n",
    "dot.source\n"
   ]
  },
  {
   "cell_type": "code",
   "execution_count": null,
   "metadata": {},
   "outputs": [],
   "source": []
  },
  {
   "cell_type": "code",
   "execution_count": null,
   "metadata": {},
   "outputs": [],
   "source": []
  }
 ],
 "metadata": {
  "colab": {
   "collapsed_sections": [],
   "default_view": {},
   "name": "kNN-DecisionTree-thuanle-v2.ipynb",
   "provenance": [],
   "version": "0.3.2",
   "views": {}
  },
  "kernelspec": {
   "display_name": "Python 3",
   "language": "python",
   "name": "python3"
  },
  "language_info": {
   "codemirror_mode": {
    "name": "ipython",
    "version": 3
   },
   "file_extension": ".py",
   "mimetype": "text/x-python",
   "name": "python",
   "nbconvert_exporter": "python",
   "pygments_lexer": "ipython3",
   "version": "3.7.6"
  }
 },
 "nbformat": 4,
 "nbformat_minor": 1
}
